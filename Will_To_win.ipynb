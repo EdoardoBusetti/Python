{
 "cells": [
  {
   "cell_type": "markdown",
   "metadata": {},
   "source": [
    "# Automatic Field Booking"
   ]
  },
  {
   "cell_type": "markdown",
   "metadata": {},
   "source": [
    "### Imports"
   ]
  },
  {
   "cell_type": "code",
   "execution_count": null,
   "metadata": {},
   "outputs": [],
   "source": [
    "import os\n",
    "from selenium import webdriver\n",
    "from selenium.webdriver.common.keys import Keys # Keys in the keyboard\n",
    "from selenium.webdriver.common.by import By\n",
    "from selenium.webdriver.chrome.options import Options\n",
    "import time\n",
    "from datetime import datetime\n",
    "from datetime import timedelta\n",
    "import sys"
   ]
  },
  {
   "cell_type": "markdown",
   "metadata": {},
   "source": [
    "### Input Parameters"
   ]
  },
  {
   "cell_type": "code",
   "execution_count": null,
   "metadata": {},
   "outputs": [],
   "source": [
    "Wanted_parks = [\"Regents\"] # For now it only works specifying 1 single park, later I want to make it book to different parks based on user preferences\n",
    "wanted_time_slots = [\"09:00\",\"16:00\"] # format --> A list of start slot times in the following format: [\"07:00\",\"16:00\"]  Order the list based on your preferred slot, the preferred slots go first\n",
    "\n",
    "card_num = input(\"Insert card numbers: format xxxxxxxxxxxxxxxx    \")\n",
    "card_exp = input(\"insert card expiry: format xxxx    \")\n",
    "card_cvc = input(\"Insert card cvc: format xxx    \")\n",
    "\n",
    "Card_Details = [card_num,card_exp,card_cvc]\n",
    "\n",
    "Parks = {\"Hyde\":\"https://www.openplay.co.uk/booking/place/4038/member-choice?mode=nonMember\",\"Regents\":\"https://www.openplay.co.uk/booking/place/154/member-choice?mode=nonMember\"}\n",
    "\n",
    "''' This is the day for which we want to book. Since Will To Win let's you book 3 days from today,\n",
    "we shoud select 4 \n",
    "days from today. We will make the booking at midnight, as soon as the new shedule is out '''\n",
    "the_new_day = (datetime.today() + timedelta(days=4)).strftime('%Y-%m-%d')"
   ]
  },
  {
   "cell_type": "code",
   "execution_count": null,
   "metadata": {},
   "outputs": [],
   "source": [
    "chromedriver = \"chromedriver.exe\"\n",
    "\n",
    "os.environ[\"webdriver.chrome.driver\"] = chromedriver\n",
    "chrome_options = Options()\n",
    "\n",
    "# Turn off chrome warning for multiple downloads\n",
    "# prefs = {'profile.default_content_setting_values.automatic_downloads': 1,\"download.default_directory\" : download_folder_path}\n",
    "# chrome_options.add_experimental_option(\"prefs\", prefs)\n",
    "driver = webdriver.Chrome(options=chrome_options)"
   ]
  },
  {
   "cell_type": "code",
   "execution_count": null,
   "metadata": {},
   "outputs": [],
   "source": [
    "wanted_park_1 = Wanted_parks[0]\n",
    "driver.get(Parks[wanted_park_1])"
   ]
  },
  {
   "cell_type": "markdown",
   "metadata": {},
   "source": [
    "### Selecting the Game: Padel"
   ]
  },
  {
   "cell_type": "code",
   "execution_count": null,
   "metadata": {},
   "outputs": [],
   "source": [
    "driver.find_element_by_xpath(\"//select[@name='use']/option[text()='Padel']\").click()"
   ]
  },
  {
   "cell_type": "markdown",
   "metadata": {},
   "source": [
    "### Selecting the date"
   ]
  },
  {
   "cell_type": "code",
   "execution_count": null,
   "metadata": {},
   "outputs": [],
   "source": [
    "def time_until_end_of_day(dt=None):\n",
    "    if dt is None:\n",
    "        dt = datetime.now()\n",
    "    return ((24 - dt.hour - 1) * 60 * 60) + ((60 - dt.minute - 1) * 60) + (60 - dt.second)\n",
    "\n",
    "seconds_till_midnight = time_until_end_of_day()\n",
    "time.sleep(seconds_till_midnight) # Wait untill midnight and then execute the following code\n",
    "\n",
    "Park_table_xpaths = {\"Hyde\":\"//table[@class='table  table-striped table-times resource-3546']/tbody\",\"Regents\":\"//table[@class='table  table-striped table-times resource-3530']/tbody\"}\n",
    "\n",
    "number_of_iterations = 0\n",
    "# 1440 iterazioni corrispondono a 24h ore (1 min a iterazione)\n",
    "all_options_list = []\n",
    "is_new_day_flag = False\n",
    "while (number_of_iterations < 1440) or (is_new_day_flag == True):\n",
    "    # Get Possible selections\n",
    "    select_box = driver.find_element_by_xpath(\"//select[@name='date']\") \n",
    "    options = [x for x in select_box.find_elements_by_tag_name(\"option\")]\n",
    "    options_vals = [elem.get_attribute(\"value\") for elem in options]\n",
    "    now = datetime.now()\n",
    "    number_of_iterations+=1\n",
    "    ##############################################\n",
    "    latest_date = options_vals[-1]\n",
    "    formatted_ = \"//select[@name='date']/option[@value='{}']\".format(latest_date)\n",
    "    driver.find_element_by_xpath(formatted_).click()\n",
    "    \n",
    "    table = driver.find_element_by_xpath(Park_table_xpaths[wanted_park_1])\n",
    "    row_list = table.find_elements_by_tag_name(\"tr\")\n",
    "    row_list = row_list[1:] #Removing the header row\n",
    "    Time_slots = []\n",
    "    for row in row_list:\n",
    "        time_slot = row.find_element_by_tag_name(\"td\").get_attribute(\"class\")\n",
    "        try:\n",
    "            avaiable = row.find_element_by_tag_name(\"td\").find_element_by_tag_name(\"a\").get_attribute(\"href\")\n",
    "        except:\n",
    "            avaiable = \"Not avaiable\"\n",
    "        Time_slots.append((time_slot,avaiable))\n",
    "    avaiable_time_slots = [ i for i in Time_slots if i[1] != \"Not avaiable\"]\n",
    "    time_options_avaiable = (now, latest_date,avaiable_time_slots)\n",
    "    all_options_list.append(time_options_avaiable)\n",
    "    is_new_day_flag = (latest_date == the_new_day) #Check if the new_day schedule is out\n",
    "    \n",
    "    if is_new_day_flag == True: # If it is out, we save the new schedule and we break the loop\n",
    "        new_day_schedule = time_options_avaiable\n",
    "        break\n",
    "    time.sleep(60) # Stop Execution for 1 minute\n",
    "    driver.refresh() # Refresh page\n",
    "    \n",
    "    \n",
    "    "
   ]
  },
  {
   "cell_type": "markdown",
   "metadata": {},
   "source": [
    "### Checking if any of the slots avaiable in the new schedule are desired from us"
   ]
  },
  {
   "cell_type": "code",
   "execution_count": null,
   "metadata": {},
   "outputs": [],
   "source": [
    "new_day_time_slots_avaiable = new_day_schedule[2] # List of tuples with tuple[0] = 'text-center slot-3546 07:00'\n",
    "\n",
    "times_avaiable = []\n",
    "for tup in new_day_time_slots_avaiable:\n",
    "    time_ = tup[0][-5:]\n",
    "    times_avaiable.append(time_)\n",
    "\n",
    "selected_time = False\n",
    "for wanted_time in wanted_time_slots:\n",
    "    if wanted_time in times_avaiable:\n",
    "        selected_time = wanted_time\n",
    "        break\n",
    "\n",
    "if selected_time == False:\n",
    "    print(\"You wanted one of the following time slots {}\".format(wanted_time_slots))\n",
    "    print(\"Only the following time slots where avaiable for the day {} : {}\".format(latest_date,times_avaiable))\n",
    "    print(\"Too bad, if will be for another time\")\n",
    "    exit(\"Too bad, if will be for another time - Exit program\")\n",
    "    \n",
    "else:\n",
    "    print(\"You selected time slot {}, which was avaiable\".format(wanted_time))\n",
    "    print(\"We will now process your booking\")"
   ]
  },
  {
   "cell_type": "markdown",
   "metadata": {},
   "source": [
    "### Select the time"
   ]
  },
  {
   "cell_type": "code",
   "execution_count": null,
   "metadata": {},
   "outputs": [],
   "source": [
    "# mod the format to \"07:00-\" Starting time specified\n",
    "time.sleep(1)\n",
    "starting_time = selected_time + \"-\"\n",
    "driver.find_element_by_partial_link_text(starting_time).click()"
   ]
  },
  {
   "cell_type": "markdown",
   "metadata": {},
   "source": [
    "### Select Pricing"
   ]
  },
  {
   "cell_type": "code",
   "execution_count": null,
   "metadata": {},
   "outputs": [],
   "source": [
    "time.sleep(2)\n",
    "# General Public\n",
    "iframe = driver.find_element_by_xpath(\"//iframe[@name='smallModal-frame']\")\n",
    "driver.switch_to.frame(iframe)\n",
    "driver.find_element_by_partial_link_text(\"General Public\").click()\n",
    "driver.switch_to.default_content()\n"
   ]
  },
  {
   "cell_type": "code",
   "execution_count": null,
   "metadata": {},
   "outputs": [],
   "source": [
    "# Click Continue\n",
    "time.sleep(2)\n",
    "driver.find_element_by_id(\"cart-continue\").click()"
   ]
  },
  {
   "cell_type": "code",
   "execution_count": null,
   "metadata": {},
   "outputs": [],
   "source": [
    "# Existing User\n",
    "time.sleep(1)\n",
    "driver.find_element_by_partial_link_text(\"Existing User\").click()"
   ]
  },
  {
   "cell_type": "code",
   "execution_count": null,
   "metadata": {},
   "outputs": [],
   "source": [
    "#Input username and password\n",
    "time.sleep(1)\n",
    "user_username = \"toardo@gmail.com\"\n",
    "user_password = \"I_Reserve_Fast_6\"\n",
    "\n",
    "elem_username = driver.find_element_by_id(\"loginEmail\")\n",
    "elem_username.clear()\n",
    "elem_username.send_keys(user_username)\n",
    "\n",
    "\n",
    "\n",
    "elem_password = driver.find_element_by_id(\"loginPassword\")\n",
    "elem_password.clear()\n",
    "elem_password.send_keys(user_password)\n",
    "elem_password.send_keys(Keys.RETURN)"
   ]
  },
  {
   "cell_type": "code",
   "execution_count": null,
   "metadata": {},
   "outputs": [],
   "source": [
    "time.sleep(1)\n",
    "driver.find_element_by_id(\"submit\").click()"
   ]
  },
  {
   "cell_type": "code",
   "execution_count": null,
   "metadata": {},
   "outputs": [],
   "source": [
    "time.sleep(1)\n",
    "driver.find_element_by_id(\"continue\").click()"
   ]
  },
  {
   "cell_type": "code",
   "execution_count": null,
   "metadata": {},
   "outputs": [],
   "source": [
    "time.sleep(1)\n",
    "driver.find_element_by_id(\"confirm-checkbox\").click()"
   ]
  },
  {
   "cell_type": "code",
   "execution_count": null,
   "metadata": {},
   "outputs": [],
   "source": [
    "time.sleep(1)\n",
    "driver.find_element_by_id(\"complete-order\").click()"
   ]
  },
  {
   "cell_type": "code",
   "execution_count": null,
   "metadata": {},
   "outputs": [],
   "source": [
    "# smallModal-frame is the one we want\n",
    "time.sleep(3)\n",
    "first_layer_iframe = {child_frame.get_attribute('name'):child_frame for child_frame in driver.find_elements_by_tag_name('iframe')}\n",
    "selected_iframe = first_layer_iframe['smallModal-frame']"
   ]
  },
  {
   "cell_type": "code",
   "execution_count": null,
   "metadata": {},
   "outputs": [],
   "source": [
    "driver.switch_to.frame(selected_iframe)"
   ]
  },
  {
   "cell_type": "code",
   "execution_count": null,
   "metadata": {},
   "outputs": [],
   "source": [
    "time.sleep(3)\n",
    "second_layer_iframe = {child_frame.get_attribute('name'):child_frame for child_frame in driver.find_elements_by_tag_name('iframe')}\n",
    "\n",
    "# Keep only the ones with \"privateStripeFrame\" in them\n",
    "second_layer_iframe_2 = {key:elem for key,elem in second_layer_iframe.items() if \"privateStripeFrame\" in key}\n",
    "#These 3 are Card number - Expiry and CVC in this order.\n",
    "\n",
    "second_layer_iframe_sorted = sorted(second_layer_iframe_2.items())  "
   ]
  },
  {
   "cell_type": "code",
   "execution_count": null,
   "metadata": {},
   "outputs": [],
   "source": [
    "card_iframe = second_layer_iframe_sorted[0][1]\n",
    "Expiry_iframe = second_layer_iframe_sorted[1][1]\n",
    "CVC_iframe = second_layer_iframe_sorted[2][1]"
   ]
  },
  {
   "cell_type": "code",
   "execution_count": null,
   "metadata": {},
   "outputs": [],
   "source": [
    "# connect to Card Iframe\n",
    "driver.switch_to.frame(card_iframe)\n",
    "time.sleep(2)\n",
    "inputs_list = driver.find_elements_by_xpath(\"//input\")\n",
    "inputs_list[1].send_keys(Card_Details[0]) #Send CARD numbers\n",
    "time.sleep(1)\n",
    "\n",
    "# Switch to Default Frame\n",
    "driver.switch_to.default_content()\n",
    "time.sleep(3)\n",
    "\n",
    "# Connect to Stripe Frame\n",
    "driver.switch_to.frame(selected_iframe)\n",
    "time.sleep(3)\n",
    "# Connect to Expiry Frame\n",
    "driver.switch_to.frame(Expiry_iframe) \n",
    "\n",
    "inputs_list = driver.find_elements_by_xpath(\"//input\")\n",
    "inputs_list[1].send_keys(Card_Details[1]) #Send CARD expiry\n",
    "time.sleep(1)\n",
    "\n",
    "# Switch to Default Frame\n",
    "driver.switch_to.default_content()\n",
    "time.sleep(3)\n",
    "\n",
    "# Connect to Stripe Frame\n",
    "driver.switch_to.frame(selected_iframe)\n",
    "time.sleep(3)\n",
    "\n",
    "# Connect to CVC Frame\n",
    "driver.switch_to.frame(CVC_iframe) \n",
    "inputs_list = driver.find_elements_by_xpath(\"//input\")\n",
    "inputs_list[1].send_keys(Card_Details[2]) #Send CVC expiry\n",
    "inputs_list[1].send_keys(Keys.RETURN)\n",
    "time.sleep(1)"
   ]
  }
 ],
 "metadata": {
  "kernelspec": {
   "display_name": "Python 3",
   "language": "python",
   "name": "python3"
  },
  "language_info": {
   "codemirror_mode": {
    "name": "ipython",
    "version": 3
   },
   "file_extension": ".py",
   "mimetype": "text/x-python",
   "name": "python",
   "nbconvert_exporter": "python",
   "pygments_lexer": "ipython3",
   "version": "3.8.3"
  }
 },
 "nbformat": 4,
 "nbformat_minor": 4
}
