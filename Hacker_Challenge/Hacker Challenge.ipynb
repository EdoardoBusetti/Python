{
 "cells": [
  {
   "cell_type": "markdown",
   "metadata": {},
   "source": [
    "## Hacker Challenge 2020\n",
    "Write a 🐍 program that logs on the Hub and downloads module files.\n",
    "\n",
    "And hopefully don't get kicked out 😅"
   ]
  },
  {
   "cell_type": "markdown",
   "metadata": {},
   "source": [
    "## User Inputs"
   ]
  },
  {
   "cell_type": "code",
   "execution_count": null,
   "metadata": {
    "scrolled": true
   },
   "outputs": [],
   "source": [
    "user_username = input(\"Insert Username (e.g. af2230):    \")\n",
    "user_password = input(\"Insert Password:    \")\n",
    "\n",
    "\n",
    "import subprocess\n",
    "import sys\n",
    "\n",
    "def install(package):\n",
    "            subprocess.check_call([sys.executable, \"-m\", \"pip\", \"install\", package])\n",
    "\n",
    "\n",
    "with open(\"requirements.txt\") as f:\n",
    "    for pk in f:\n",
    "        install(pk)\n",
    "\n",
    "\n",
    "# Specify the folder where you want to save the downloads\n",
    "import os\n",
    "download_folder_path = os.getcwd()\n",
    "download_folder_path = os.path.join(download_folder_path,\"Courses_Downloads\") # Default\n",
    "\n",
    "import easygui as eg\n",
    "\n",
    "question = \"What courses do you want to download?  The files will be downloaded in a folder called  'Courses_Downloads' stored in the same folder where this script is stored\"\n",
    "title = \"Select courses\"\n",
    "courses = [\"Math\", \"FDT\", \"DSA\"]\n",
    "\n",
    "choice = eg.multchoicebox(question , title, courses)\n",
    "courses = choice\n",
    "\n",
    "# Paths to the course File folders\n",
    "paths_to_file = {\"Math\": \"https://www.dropbox.com/dropins/embed?app_key=61vxbrvh0awtwwr&origin=https%3A%2F%2Fiframed.insendi.com&link=https%3A%2F%2Fwww.dropbox.com%2Fsh%2Ft14inxc5bfcwaqu%2FAADiq3JtxF07oJ3ymOe94nH2a%3Fdl%3D0&iframe=false\",\n",
    "                 \"FDT\":\"https://www.dropbox.com/dropins/embed?app_key=61vxbrvh0awtwwr&origin=https%3A%2F%2Fiframed.insendi.com&link=https%3A%2F%2Fwww.dropbox.com%2Fsh%2F7w7a76i95jtl3ca%2FAADl7D_Tn6xUZ97KCdzmxl-sa%3Fdl%3D0&iframe=false\",\n",
    "                 \"DSA\":\"https://www.dropbox.com/dropins/embed?app_key=61vxbrvh0awtwwr&origin=https%3A%2F%2Fiframed.insendi.com&link=https%3A%2F%2Fwww.dropbox.com%2Fsh%2Fwji42tbpgzpfzir%2FAADnJYBolgVuVDYvJ4nI2wQla%3Fdl%3D0&iframe=false\"}"
   ]
  },
  {
   "cell_type": "code",
   "execution_count": null,
   "metadata": {},
   "outputs": [],
   "source": [
    "\"\"\"\n",
    "flag_download = input(\"Do you want to set the folder where the files will be downloaded? (If you don't they will be downloaded in a folder called 'Downloads' located in the root of this script) - Type yes or no:  \")\n",
    "while (flag_download.lower() != \"yes\") and (flag_download.lower() != \"no\"):\n",
    "    flag_download = input(\"Type yes or no:   \")\n",
    "    \n",
    "from tkinter import filedialog\n",
    "from tkinter import *\n",
    "\n",
    "    \n",
    "if flag_download.lower() == \"yes\":\n",
    "    root = Tk()\n",
    "    download_folder_path = filedialog.askdirectory()\n",
    "    root.withdraw()\n",
    "    download_folder_path = download_folder_path.split(\"/\")\n",
    "    download_folder_path = os.path.join(*download_folder_path)\n",
    "    download_folder_path = os.path.join(download_folder_path,\"Courses_Downloads\")\n",
    "else:\n",
    "    pass\n",
    "\"\"\""
   ]
  },
  {
   "cell_type": "markdown",
   "metadata": {},
   "source": [
    "### Importing selenium:webdriver and setting the browser to chrome"
   ]
  },
  {
   "cell_type": "code",
   "execution_count": null,
   "metadata": {},
   "outputs": [],
   "source": [
    "from selenium import webdriver\n",
    "from selenium.webdriver.common.keys import Keys # Keys in the keyboard\n",
    "from selenium.webdriver.common.by import By\n",
    "from selenium.webdriver.chrome.options import Options\n",
    "import time\n",
    "\n",
    "from sys import platform\n",
    "if platform == \"linux\" or platform == \"linux2\":\n",
    "    pass\n",
    "if platform == \"darwin\":\n",
    "    chromedriver = os.getcwd()\n",
    "    chromedriver = os.path.join(chromedriver,\"chromedriver\") # Mac\n",
    "if platform == \"win32\":\n",
    "    chromedriver = os.getcwd()\n",
    "    chromedriver = os.path.join(chromedriver,\"win_chromedriver.exe\") # Windows\n",
    "\n",
    "\n",
    "# os.environ[\"webdriver.chrome.driver\"] = chromedriver\n",
    "chrome_options = Options()\n",
    "\n",
    "# Turn off chrome warning for multiple downloads\n",
    "prefs = {'profile.default_content_setting_values.automatic_downloads': 1,\"download.default_directory\" : download_folder_path}\n",
    "chrome_options.add_experimental_option(\"prefs\", prefs)\n",
    "driver = webdriver.Chrome(chromedriver,options=chrome_options)"
   ]
  },
  {
   "cell_type": "markdown",
   "metadata": {},
   "source": [
    "### Connecting to the Hub trough the Imperial Login "
   ]
  },
  {
   "cell_type": "code",
   "execution_count": null,
   "metadata": {},
   "outputs": [],
   "source": [
    "driver.get('https://imperial.insendi.com/auth/saml/authenticate/imp?returnPath=/')"
   ]
  },
  {
   "cell_type": "markdown",
   "metadata": {},
   "source": [
    "### Entering the Username"
   ]
  },
  {
   "cell_type": "code",
   "execution_count": null,
   "metadata": {},
   "outputs": [],
   "source": [
    "elem_username = driver.find_element_by_name(\"j_username\")\n",
    "elem_username.clear()\n",
    "elem_username.send_keys(user_username)"
   ]
  },
  {
   "cell_type": "markdown",
   "metadata": {},
   "source": [
    "### Entering the password and pressing \"Enter\""
   ]
  },
  {
   "cell_type": "code",
   "execution_count": null,
   "metadata": {},
   "outputs": [],
   "source": [
    "elem_password = driver.find_element_by_name(\"j_password\")\n",
    "elem_password.clear()\n",
    "elem_password.send_keys(user_password)\n",
    "elem_password.send_keys(Keys.RETURN)"
   ]
  },
  {
   "cell_type": "markdown",
   "metadata": {},
   "source": [
    "### Connecting to the Dropbox folder and downloading the files"
   ]
  },
  {
   "cell_type": "code",
   "execution_count": null,
   "metadata": {},
   "outputs": [],
   "source": [
    "for course in courses:\n",
    "    dropdox_Path = paths_to_file[course]\n",
    "    driver.get(dropdox_Path)\n",
    "    time.sleep(3)\n",
    "    driver.find_element_by_xpath(\"//button[@aria-label='Download']\").click()\n",
    "    time.sleep(3)"
   ]
  },
  {
   "cell_type": "markdown",
   "metadata": {},
   "source": [
    "### Wait untill the downloads are finished"
   ]
  },
  {
   "cell_type": "code",
   "execution_count": null,
   "metadata": {},
   "outputs": [],
   "source": [
    "seconds = 0\n",
    "wait = True\n",
    "while wait:\n",
    "    time.sleep(1)\n",
    "    wait = False\n",
    "    for fname in os.listdir(download_folder_path):\n",
    "        if fname.endswith('.crdownload'):\n",
    "            wait = True\n",
    "    seconds += 1\n",
    "    if seconds %5 ==0:\n",
    "        print(\"Seconds passed since the start of the downloads \",seconds)"
   ]
  },
  {
   "cell_type": "markdown",
   "metadata": {},
   "source": [
    "### Unzipping the downloaded folders and renaming them"
   ]
  },
  {
   "cell_type": "code",
   "execution_count": null,
   "metadata": {},
   "outputs": [],
   "source": [
    "from zipfile import ZipFile\n",
    "downloads = os.listdir(download_folder_path)\n",
    "downloads_zips = [i for i in downloads if \".zip\" in i and \"crd\" not in i]\n",
    "zip_paths = [os.path.join(download_folder_path,i) for i in downloads_zips]\n",
    "the_len = len(zip_paths[0])\n",
    "if not all(len(l) == the_len for l in zip_paths):\n",
    "    zip_paths = sorted(zip_paths)\n",
    "    zip_paths = zip_paths[-1:] + zip_paths[:-1] \n",
    "else:\n",
    "    zip_paths = sorted(zip_paths)\n",
    "    \n",
    "for i,zip_fold in enumerate(zip_paths):\n",
    "    with ZipFile(zip_fold, 'r') as zipObj:\n",
    "       # Extract all the contents of zip file in current directory\n",
    "       zipObj.extractall(os.path.join(download_folder_path,courses[i]))"
   ]
  },
  {
   "cell_type": "markdown",
   "metadata": {},
   "source": [
    "### Removing the .zip files"
   ]
  },
  {
   "cell_type": "code",
   "execution_count": null,
   "metadata": {},
   "outputs": [],
   "source": [
    "for zip_path in zip_paths:\n",
    "    os.remove(zip_path)"
   ]
  }
 ],
 "metadata": {
  "kernelspec": {
   "display_name": "Python 3",
   "language": "python",
   "name": "python3"
  },
  "language_info": {
   "codemirror_mode": {
    "name": "ipython",
    "version": 3
   },
   "file_extension": ".py",
   "mimetype": "text/x-python",
   "name": "python",
   "nbconvert_exporter": "python",
   "pygments_lexer": "ipython3",
   "version": "3.8.3"
  }
 },
 "nbformat": 4,
 "nbformat_minor": 4
}
